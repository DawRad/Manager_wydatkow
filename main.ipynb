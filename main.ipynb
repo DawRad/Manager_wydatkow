{
 "cells": [
  {
   "attachments": {},
   "cell_type": "markdown",
   "metadata": {},
   "source": [
    "# Manager wydatków - interfejs"
   ]
  },
  {
   "attachments": {},
   "cell_type": "markdown",
   "metadata": {},
   "source": [
    "## Importowanie potrzebnych modułów"
   ]
  },
  {
   "attachments": {},
   "cell_type": "markdown",
   "metadata": {},
   "source": [
    "## Główne ciało programu"
   ]
  },
  {
   "cell_type": "code",
   "execution_count": 12,
   "metadata": {},
   "outputs": [
    {
     "name": "stdout",
     "output_type": "stream",
     "text": [
      "Toby\n"
     ]
    }
   ],
   "source": [
    "# Zasob.resetujLicznikZasobow()\n",
    "# zasoby = [Zasob]\n",
    "# zasoby.append(Zasob(\"konto bankowe\", 1345.77))\n",
    "# zasoby.append(Zasob(\"gotówka\", 1222.08))\n",
    "# zasoby.append(Zasob(\"konto bankowe\", 2356.90))\n",
    "# zasoby.append(Zasob(\"gotówka\", 1300.80))\n",
    "# zasoby.append(Zasob(\"konto bankowe\", 4370.65))\n",
    "\n",
    "# print(\"Hello, world!\\n(Nic innego na poczatek nie moglo byc :-) )\")\n",
    "\n",
    "# print(\"\\nMoje środki pieniężne: \\n\")\n",
    "# for zasob in zasoby:\n",
    "#     print(zasob,\"\\n\")\n",
    "\n",
    "# print(\"\\nAktualny stan rodzajów zasobów: \\n\")\n",
    "# Zasob.wypiszRodzajeZasobow()\n",
    "\n",
    "# Zasob.dodajRodzZasobow([\"konto bankowe\", \"sloik\", \"sejf\"])\n",
    "\n",
    "# print(\"\\nStan rodzajów zasobów po dodaniu nowych: \\n\")\n",
    "# Zasob.wypiszRodzajeZasobow()\n",
    "\n",
    "# paragon = Paragon(0, dtm.date(2023, 4, 27))\n",
    "# print(\"***Paragon 1***\\n\", paragon, \"\\nSuma wydatków = \", paragon.sumujWydatki())\n",
    "\n",
    "# lista_wydatkow = [Wydatek(0, 128.28, \"tort\", \"cukiernicze\")]\n",
    "# lista_wydatkow.append(Wydatek(1, 177.09, \"Margherita\", \"pizza\"))\n",
    "# lista_wydatkow.append(Wydatek(2, 59.68, \"Capriciosa\", \"pizza\"))\n",
    "# paragon_2 = Paragon(1, dtm.date(2023, 4, 28), \"Mińsk Mazowiecki\", lista_wydatkow)\n",
    "# print(\"\\n\\n***Paragon 2***\\n\", paragon_2, \"\\nSuma wydatków = \", paragon_2.sumujWydatki())\n",
    "\n",
    "def my_func(arg1 = None):\n",
    "    if arg1 != None: print(arg1)        \n",
    "    else: print(\"Param arg1 is None type\")\n",
    "\n",
    "my_func(\"Toby\")"
   ]
  },
  {
   "cell_type": "code",
   "execution_count": null,
   "metadata": {},
   "outputs": [],
   "source": [
    "# Zapisywanie paragonu do pliku\n",
    "with open(\"dane.pickle\", 'wb') as file:\n",
    "    pickle.dump(paragon_2, file)"
   ]
  },
  {
   "cell_type": "code",
   "execution_count": null,
   "metadata": {},
   "outputs": [],
   "source": [
    "# Odczyt danych z pliku\n",
    "with open(\"dane.pickle\", 'rb') as file_in:\n",
    "    paragon_z_zapisu = pickle.load(file_in)\n",
    "\n",
    "print(paragon_z_zapisu)"
   ]
  },
  {
   "cell_type": "code",
   "execution_count": 1,
   "metadata": {},
   "outputs": [],
   "source": [
    "import sys\n",
    "import os\n",
    "CURRENT_PATH = os.path.curdir\n",
    "sys.path.append(os.path.abspath(CURRENT_PATH + \"/src\"))\n",
    "\n",
    "from Fundamenty import *\n",
    "from Interfejs import Interfejs\n",
    "from GUI import MainWindow\n",
    "import datetime as dtm\n",
    "import pickle"
   ]
  },
  {
   "cell_type": "code",
   "execution_count": 2,
   "metadata": {},
   "outputs": [],
   "source": [
    "moj_interfejs = Interfejs()\n",
    "# moj_interfejs.utworzPosiadacza()\n",
    "# moj_interfejs.utworzPosiadacza(\"Dawid\", \"Radłowski\")\n",
    "my_window = MainWindow(moj_interfejs)"
   ]
  },
  {
   "cell_type": "code",
   "execution_count": 3,
   "metadata": {},
   "outputs": [
    {
     "name": "stdout",
     "output_type": "stream",
     "text": [
      "  Produkt  Rodzaj  Cena\n",
      "0   mleko  nabiał   4.5\n",
      "Empty DataFrame\n",
      "Columns: [Przedmiot, Rodzaj, Cena, NIP]\n",
      "Index: []\n",
      "  Produkt  Rodzaj  Cena  Lp. Gatunek   Waga  Wzrost\n",
      "0   mleko  nabiał   4.5  NaN     NaN    NaN     NaN\n",
      "1     NaN     NaN   NaN  1.0   wydra    4.0    0.15\n",
      "2     NaN     NaN   NaN  2.0    pies   12.0    0.55\n",
      "3     NaN     NaN   NaN  3.0  słowik    0.5    0.10\n",
      "4     NaN     NaN   NaN  4.0  borsuk   11.0    0.22\n",
      "5     NaN     NaN   NaN  5.0   jeleń  224.0    1.40\n",
      "6     NaN     NaN   NaN  6.0    dzik   87.0    1.01\n"
     ]
    }
   ],
   "source": [
    "moj_interfejs = Interfejs()\n",
    "moj_interfejs.utworzPosiadacza()\n",
    "moj_interfejs.dodajTabWydatki(\"Paragony\", [\"Produkt\", \"Rodzaj\", \"Cena\"])\n",
    "moj_interfejs.dodajTabWydatki(\"Faktury\", [\"Przedmiot\", \"Rodzaj\", \"Cena\", \"NIP\"])\n",
    "moj_interfejs.dodajWierszTabWydatki(\"Paragony\", [\"mleko\", \"nabiał\", 4.50])\n",
    "moj_interfejs.drukujTabWydatki(\"Paragony\")\n",
    "moj_interfejs.drukujTabWydatki(\"Faktury\")\n",
    "\n",
    "# import pandas as pd\n",
    "\n",
    "file1 = \"tab1.xlsx\"\n",
    "file2 = \"tab2.xlsx\"\n",
    "\n",
    "moj_interfejs.wczytajTabZPliku(file2, \"Paragony\")\n",
    "moj_interfejs.drukujTabWydatki(\"Paragony\")\n",
    "\n",
    "# df1 = pd.read_excel(file1)\n",
    "# df2 = pd.read_excel(file2)\n",
    "\n",
    "# df_list = [df1, df2]\n",
    "# # for tab in df_list: print(tab)\n",
    "# # print(df_list[0])\n",
    "# # print(df_list[1])"
   ]
  }
 ],
 "metadata": {
  "kernelspec": {
   "display_name": "Python 3",
   "language": "python",
   "name": "python3"
  },
  "language_info": {
   "codemirror_mode": {
    "name": "ipython",
    "version": 3
   },
   "file_extension": ".py",
   "mimetype": "text/x-python",
   "name": "python",
   "nbconvert_exporter": "python",
   "pygments_lexer": "ipython3",
   "version": "3.10.5"
  },
  "orig_nbformat": 4
 },
 "nbformat": 4,
 "nbformat_minor": 2
}
