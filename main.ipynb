{
 "cells": [
  {
   "attachments": {},
   "cell_type": "markdown",
   "metadata": {},
   "source": [
    "# Manager wydatków - interfejs"
   ]
  },
  {
   "attachments": {},
   "cell_type": "markdown",
   "metadata": {},
   "source": [
    "## Importowanie potrzebnych modułów"
   ]
  },
  {
   "attachments": {},
   "cell_type": "markdown",
   "metadata": {},
   "source": [
    "## Główne ciało programu"
   ]
  },
  {
   "cell_type": "code",
   "execution_count": null,
   "metadata": {},
   "outputs": [],
   "source": [
    "# Zasob.resetujLicznikZasobow()\n",
    "# zasoby = [Zasob]\n",
    "# zasoby.append(Zasob(\"konto bankowe\", 1345.77))\n",
    "# zasoby.append(Zasob(\"gotówka\", 1222.08))\n",
    "# zasoby.append(Zasob(\"konto bankowe\", 2356.90))\n",
    "# zasoby.append(Zasob(\"gotówka\", 1300.80))\n",
    "# zasoby.append(Zasob(\"konto bankowe\", 4370.65))\n",
    "\n",
    "# print(\"Hello, world!\\n(Nic innego na poczatek nie moglo byc :-) )\")\n",
    "\n",
    "# print(\"\\nMoje środki pieniężne: \\n\")\n",
    "# for zasob in zasoby:\n",
    "#     print(zasob,\"\\n\")\n",
    "\n",
    "# print(\"\\nAktualny stan rodzajów zasobów: \\n\")\n",
    "# Zasob.wypiszRodzajeZasobow()\n",
    "\n",
    "# Zasob.dodajRodzZasobow([\"konto bankowe\", \"sloik\", \"sejf\"])\n",
    "\n",
    "# print(\"\\nStan rodzajów zasobów po dodaniu nowych: \\n\")\n",
    "# Zasob.wypiszRodzajeZasobow()\n",
    "\n",
    "# paragon = Paragon(0, dtm.date(2023, 4, 27))\n",
    "# print(\"***Paragon 1***\\n\", paragon, \"\\nSuma wydatków = \", paragon.sumujWydatki())\n",
    "\n",
    "# lista_wydatkow = [Wydatek(0, 128.28, \"tort\", \"cukiernicze\")]\n",
    "# lista_wydatkow.append(Wydatek(1, 177.09, \"Margherita\", \"pizza\"))\n",
    "# lista_wydatkow.append(Wydatek(2, 59.68, \"Capriciosa\", \"pizza\"))\n",
    "# paragon_2 = Paragon(1, dtm.date(2023, 4, 28), \"Mińsk Mazowiecki\", lista_wydatkow)\n",
    "# print(\"\\n\\n***Paragon 2***\\n\", paragon_2, \"\\nSuma wydatków = \", paragon_2.sumujWydatki())\n",
    "\n",
    "def my_func(arg1 = None):\n",
    "    if arg1 != None: print(arg1)        \n",
    "    else: print(\"Param arg1 is None type\")\n",
    "\n",
    "my_func(\"Toby\")"
   ]
  },
  {
   "cell_type": "code",
   "execution_count": null,
   "metadata": {},
   "outputs": [],
   "source": [
    "import sys\n",
    "import os\n",
    "CURRENT_PATH = os.path.curdir\n",
    "sys.path.append(os.path.abspath(CURRENT_PATH + \"/src\"))\n",
    "\n",
    "from Fundamenty import *\n",
    "from Interfejs import Interfejs\n",
    "from GUI import MainWindow"
   ]
  },
  {
   "cell_type": "code",
   "execution_count": null,
   "metadata": {},
   "outputs": [],
   "source": [
    "moj_interfejs = Interfejs()\n",
    "moj_interfejs.utworzPosiadacza()\n",
    "moj_interfejs.utworzPosiadacza(\"Dawid\", \"Radłowski\")\n",
    "moj_interfejs.wczytajTabZPliku(\"tab3.xlsx\", \"tab3.xlsx\".split('.')[0])\n",
    "moj_interfejs.wczytajTabZPliku(\"tab4.csv\", \"tab4.csv\".split('.')[0])\n",
    "moj_interfejs.wczytajTabZPliku(\"tab5.xlsx\", \"tab5.xlsx\".split('.')[0])\n",
    "my_window = MainWindow(moj_interfejs)"
   ]
  },
  {
   "cell_type": "code",
   "execution_count": null,
   "metadata": {},
   "outputs": [],
   "source": [
    "my_list = moj_interfejs.podajNazwyKolTabWydatkow(\"tab3\")\n",
    "print(my_list)\n",
    "\n",
    "kol = 'Cena'\n",
    "if kol in my_list: print(kol, \" jest w liście\")"
   ]
  },
  {
   "cell_type": "code",
   "execution_count": null,
   "metadata": {},
   "outputs": [],
   "source": [
    "moj_interfejs = Interfejs()\n",
    "moj_interfejs.utworzPosiadacza()\n",
    "moj_interfejs.dodajTabWydatki(\"Paragony\", [\"Produkt\", \"Rodzaj\", \"Cena\"])\n",
    "moj_interfejs.dodajTabWydatki(\"Faktury\", [\"Przedmiot\", \"Rodzaj\", \"Cena\", \"NIP\"])\n",
    "moj_interfejs.dodajWierszTabWydatki(\"Paragony\", [\"mleko\", \"nabiał\", 4.50])\n",
    "moj_interfejs.drukujTabWydatki(\"Paragony\")\n",
    "moj_interfejs.drukujTabWydatki(\"Faktury\")\n",
    "\n",
    "# import pandas as pd\n",
    "\n",
    "file1 = \"tab1.xlsx\"\n",
    "file2 = \"tab2.xlsx\"\n",
    "\n",
    "moj_interfejs.wczytajTabZPliku(file2, \"Paragony\")\n",
    "moj_interfejs.drukujTabWydatki(\"Paragony\")\n",
    "\n",
    "# df1 = pd.read_excel(file1)\n",
    "# df2 = pd.read_excel(file2)\n",
    "\n",
    "# df_list = [df1, df2]\n",
    "# # for tab in df_list: print(tab)\n",
    "# # print(df_list[0])\n",
    "# # print(df_list[1])"
   ]
  }
 ],
 "metadata": {
  "kernelspec": {
   "display_name": "Python 3",
   "language": "python",
   "name": "python3"
  },
  "language_info": {
   "codemirror_mode": {
    "name": "ipython",
    "version": 3
   },
   "file_extension": ".py",
   "mimetype": "text/x-python",
   "name": "python",
   "nbconvert_exporter": "python",
   "pygments_lexer": "ipython3",
   "version": "3.10.5"
  },
  "orig_nbformat": 4
 },
 "nbformat": 4,
 "nbformat_minor": 2
}
