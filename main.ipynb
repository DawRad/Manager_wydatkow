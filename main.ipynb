{
 "cells": [
  {
   "attachments": {},
   "cell_type": "markdown",
   "metadata": {},
   "source": [
    "# Manager wydatków - interfejs"
   ]
  },
  {
   "attachments": {},
   "cell_type": "markdown",
   "metadata": {},
   "source": [
    "## Importowanie potrzebnych modułów"
   ]
  },
  {
   "cell_type": "code",
   "execution_count": null,
   "metadata": {},
   "outputs": [],
   "source": [
    "import sys\n",
    "import os\n",
    "CURRENT_PATH = os.path.curdir\n",
    "sys.path.append(os.path.abspath(CURRENT_PATH + \"/src\"))\n",
    "\n",
    "from Fundamenty import *\n",
    "import datetime as dtm\n",
    "import pickle"
   ]
  },
  {
   "attachments": {},
   "cell_type": "markdown",
   "metadata": {},
   "source": [
    "## Główne ciało programu"
   ]
  },
  {
   "cell_type": "code",
   "execution_count": null,
   "metadata": {},
   "outputs": [],
   "source": [
    "# Zasob.resetujLicznikZasobow()\n",
    "# zasoby = [Zasob]\n",
    "# zasoby.append(Zasob(\"konto bankowe\", 1345.77))\n",
    "# zasoby.append(Zasob(\"gotówka\", 1222.08))\n",
    "# zasoby.append(Zasob(\"konto bankowe\", 2356.90))\n",
    "# zasoby.append(Zasob(\"gotówka\", 1300.80))\n",
    "# zasoby.append(Zasob(\"konto bankowe\", 4370.65))\n",
    "\n",
    "# print(\"Hello, world!\\n(Nic innego na poczatek nie moglo byc :-) )\")\n",
    "\n",
    "# print(\"\\nMoje środki pieniężne: \\n\")\n",
    "# for zasob in zasoby:\n",
    "#     print(zasob,\"\\n\")\n",
    "\n",
    "# print(\"\\nAktualny stan rodzajów zasobów: \\n\")\n",
    "# Zasob.wypiszRodzajeZasobow()\n",
    "\n",
    "# Zasob.dodajRodzZasobow([\"konto bankowe\", \"sloik\", \"sejf\"])\n",
    "\n",
    "# print(\"\\nStan rodzajów zasobów po dodaniu nowych: \\n\")\n",
    "# Zasob.wypiszRodzajeZasobow()\n",
    "\n",
    "paragon = Paragon(0, dtm.date(2023, 4, 27))\n",
    "print(\"***Paragon 1***\\n\", paragon, \"\\nSuma wydatków = \", paragon.sumujWydatki())\n",
    "\n",
    "lista_wydatkow = [Wydatek(0, 128.28, \"tort\", \"cukiernicze\")]\n",
    "lista_wydatkow.append(Wydatek(1, 177.09, \"Margherita\", \"pizza\"))\n",
    "lista_wydatkow.append(Wydatek(2, 59.68, \"Capriciosa\", \"pizza\"))\n",
    "paragon_2 = Paragon(1, dtm.date(2023, 4, 28), \"Mińsk Mazowiecki\", lista_wydatkow)\n",
    "print(\"\\n\\n***Paragon 2***\\n\", paragon_2, \"\\nSuma wydatków = \", paragon_2.sumujWydatki())\n"
   ]
  },
  {
   "cell_type": "code",
   "execution_count": null,
   "metadata": {},
   "outputs": [],
   "source": [
    "# Zapisywanie paragonu do pliku\n",
    "with open(\"dane.pickle\", 'wb') as file:\n",
    "    pickle.dump(paragon_2, file)"
   ]
  },
  {
   "cell_type": "code",
   "execution_count": null,
   "metadata": {},
   "outputs": [],
   "source": [
    "# Odczyt danych z pliku\n",
    "with open(\"dane.pickle\", 'rb') as file_in:\n",
    "    paragon_z_zapisu = pickle.load(file_in)\n",
    "\n",
    "print(paragon_z_zapisu)"
   ]
  }
 ],
 "metadata": {
  "kernelspec": {
   "display_name": "Python 3",
   "language": "python",
   "name": "python3"
  },
  "language_info": {
   "codemirror_mode": {
    "name": "ipython",
    "version": 3
   },
   "file_extension": ".py",
   "mimetype": "text/x-python",
   "name": "python",
   "nbconvert_exporter": "python",
   "pygments_lexer": "ipython3",
   "version": "3.10.5"
  },
  "orig_nbformat": 4
 },
 "nbformat": 4,
 "nbformat_minor": 2
}
