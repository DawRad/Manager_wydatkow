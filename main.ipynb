{
 "cells": [
  {
   "attachments": {},
   "cell_type": "markdown",
   "metadata": {},
   "source": [
    "# Manager wydatków - interfejs"
   ]
  },
  {
   "attachments": {},
   "cell_type": "markdown",
   "metadata": {},
   "source": [
    "## Importowanie potrzebnych modułów"
   ]
  },
  {
   "attachments": {},
   "cell_type": "markdown",
   "metadata": {},
   "source": [
    "## Główne ciało programu"
   ]
  },
  {
   "cell_type": "code",
   "execution_count": null,
   "metadata": {},
   "outputs": [],
   "source": [
    "import sys\n",
    "import os\n",
    "CURRENT_PATH = os.path.curdir\n",
    "sys.path.append(os.path.abspath(CURRENT_PATH + \"/src\"))\n",
    "\n",
    "from Fundamenty import *\n",
    "from Interfejs import Interfejs\n",
    "from GUI import MainWindow"
   ]
  },
  {
   "cell_type": "code",
   "execution_count": null,
   "metadata": {},
   "outputs": [],
   "source": [
    "moj_interfejs = Interfejs()\n",
    "moj_interfejs.utworzPosiadacza()\n",
    "moj_interfejs.utworzPosiadacza(\"Dawid\", \"Radłowski\")\n",
    "moj_interfejs.wczytajTabZPliku(\"tab3.xlsx\", \"tab3.xlsx\".split('.')[0])\n",
    "moj_interfejs.wczytajTabZPliku(\"tab4.csv\", \"tab4.csv\".split('.')[0])\n",
    "moj_interfejs.wczytajTabZPliku(\"tab5.xlsx\", \"tab5.xlsx\".split('.')[0])\n",
    "moj_interfejs.wczytajTabZPliku(\"przychody.xlsx\", przychody=True)\n",
    "my_window = MainWindow(moj_interfejs)"
   ]
  }
 ],
 "metadata": {
  "kernelspec": {
   "display_name": "Python 3",
   "language": "python",
   "name": "python3"
  },
  "language_info": {
   "codemirror_mode": {
    "name": "ipython",
    "version": 3
   },
   "file_extension": ".py",
   "mimetype": "text/x-python",
   "name": "python",
   "nbconvert_exporter": "python",
   "pygments_lexer": "ipython3",
   "version": "3.10.5"
  },
  "orig_nbformat": 4
 },
 "nbformat": 4,
 "nbformat_minor": 2
}
