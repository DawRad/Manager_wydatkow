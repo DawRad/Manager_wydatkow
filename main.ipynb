{
 "cells": [
  {
   "attachments": {},
   "cell_type": "markdown",
   "metadata": {},
   "source": [
    "# Główne ciało programu"
   ]
  },
  {
   "cell_type": "code",
   "execution_count": null,
   "metadata": {},
   "outputs": [],
   "source": [
    "import sys\n",
    "import os\n",
    "sys.path.append(os.path.abspath(os.path.curdir + \"/src\"))\n",
    "from Fundamenty import Zasob as zb\n",
    "\n",
    "zb.resetujLicznikZasobow()\n",
    "zasoby = []\n",
    "zasoby.append(zb(\"konto bankowe\", 1345.77))\n",
    "zasoby.append(zb(\"gotówka\", 1222.08))\n",
    "zasoby.append(zb(\"konto bankowe\", 2356.90))\n",
    "zasoby.append(zb(\"gotówka\", 1300.80))\n",
    "zasoby.append(zb(\"konto bankowe\", 4370.65))\n",
    "\n",
    "print(\"Hello, world!\\n(Nic innego na poczatek nie moglo byc :-) )\")\n",
    "\n",
    "print(\"\\nMoje środki pieniężne: \\n\")\n",
    "for zasob in zasoby:\n",
    "    print(zasob,\"\\n\")\n"
   ]
  }
 ],
 "metadata": {
  "kernelspec": {
   "display_name": "Python 3",
   "language": "python",
   "name": "python3"
  },
  "language_info": {
   "codemirror_mode": {
    "name": "ipython",
    "version": 3
   },
   "file_extension": ".py",
   "mimetype": "text/x-python",
   "name": "python",
   "nbconvert_exporter": "python",
   "pygments_lexer": "ipython3",
   "version": "3.10.5"
  },
  "orig_nbformat": 4
 },
 "nbformat": 4,
 "nbformat_minor": 2
}
